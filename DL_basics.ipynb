{
  "nbformat": 4,
  "nbformat_minor": 0,
  "metadata": {
    "colab": {
      "name": "DL-basics.ipynb",
      "provenance": [],
      "collapsed_sections": [],
      "authorship_tag": "ABX9TyOADWQ1YfzoEb4cK0eKlhtP",
      "include_colab_link": true
    },
    "kernelspec": {
      "name": "python3",
      "display_name": "Python 3"
    },
    "language_info": {
      "name": "python"
    }
  },
  "cells": [
    {
      "cell_type": "markdown",
      "metadata": {
        "id": "view-in-github",
        "colab_type": "text"
      },
      "source": [
        "<a href=\"https://colab.research.google.com/github/Norah-Martin/Norah-Martin/blob/main/DL_basics.ipynb\" target=\"_parent\"><img src=\"https://colab.research.google.com/assets/colab-badge.svg\" alt=\"Open In Colab\"/></a>"
      ]
    },
    {
      "cell_type": "code",
      "execution_count": 147,
      "metadata": {
        "id": "-5ZyTB4dBNSz"
      },
      "outputs": [],
      "source": [
        "#KERAS\n",
        "#sequential API-beginer level API(model is created layer by layer )\n",
        "#functional API-intermediate level API(model is created al at once and multiple layers interconnected)"
      ]
    },
    {
      "cell_type": "code",
      "source": [
        "#ACTIVATION FUNCTION"
      ],
      "metadata": {
        "id": "01Pj8EUkCub6"
      },
      "execution_count": 148,
      "outputs": []
    },
    {
      "cell_type": "code",
      "source": [
        "#RELU= RECTIFIED LINEAR UNIT(gives atate  of art results,very efficient)\n",
        "#formula - (x * (x > 0))"
      ],
      "metadata": {
        "id": "UBut3vexDDyZ"
      },
      "execution_count": 149,
      "outputs": []
    },
    {
      "cell_type": "code",
      "source": [
        "x = 10\n",
        "#return 0 if input negative,return input itself if input is positive\n",
        "print(x >0)\n",
        "print( x* (x>0)) #applying relu formula"
      ],
      "metadata": {
        "colab": {
          "base_uri": "https://localhost:8080/"
        },
        "id": "RWG53MshDOfC",
        "outputId": "844cf293-3de0-43a7-d082-088f7ea8ba80"
      },
      "execution_count": 150,
      "outputs": [
        {
          "output_type": "stream",
          "name": "stdout",
          "text": [
            "True\n",
            "10\n"
          ]
        }
      ]
    },
    {
      "cell_type": "code",
      "source": [
        "x = -10\n",
        "#return 0 if input negative,return input itself if input is positive\n",
        "print(x >0)\n",
        "print( x* (x>0)) #applying relu formula"
      ],
      "metadata": {
        "colab": {
          "base_uri": "https://localhost:8080/"
        },
        "id": "XY4wlKa7DnjO",
        "outputId": "c18b0a0a-6099-47b8-b57c-bad3fe906512"
      },
      "execution_count": 151,
      "outputs": [
        {
          "output_type": "stream",
          "name": "stdout",
          "text": [
            "False\n",
            "0\n"
          ]
        }
      ]
    },
    {
      "cell_type": "code",
      "source": [
        "import matplotlib.pyplot as plt\n",
        "import numpy as np\n",
        "x = np.linspace(-3,3,30)\n",
        "print(x)\n",
        " # applying relu fuction\n",
        "def relu(x):\n",
        "  return (x *(x>0))\n",
        "\n",
        "y= relu(x)\n",
        "plt.plot(x,y)\n",
        "\n",
        "#derivative of relu\n",
        "def d_relu(x):\n",
        "  return 1 *(x > 0)\n",
        "\n",
        "d = d_relu(x)\n",
        "print(y)\n",
        "print(d)\n",
        "plt.scatter(x,d,color='r')\n",
        "plt.show()"
      ],
      "metadata": {
        "colab": {
          "base_uri": "https://localhost:8080/",
          "height": 456
        },
        "id": "F4ibmVWSEL_L",
        "outputId": "1f6f200d-0ee5-41bd-898e-111280ec0c06"
      },
      "execution_count": 152,
      "outputs": [
        {
          "output_type": "stream",
          "name": "stdout",
          "text": [
            "[-3.         -2.79310345 -2.5862069  -2.37931034 -2.17241379 -1.96551724\n",
            " -1.75862069 -1.55172414 -1.34482759 -1.13793103 -0.93103448 -0.72413793\n",
            " -0.51724138 -0.31034483 -0.10344828  0.10344828  0.31034483  0.51724138\n",
            "  0.72413793  0.93103448  1.13793103  1.34482759  1.55172414  1.75862069\n",
            "  1.96551724  2.17241379  2.37931034  2.5862069   2.79310345  3.        ]\n",
            "[-0.         -0.         -0.         -0.         -0.         -0.\n",
            " -0.         -0.         -0.         -0.         -0.         -0.\n",
            " -0.         -0.         -0.          0.10344828  0.31034483  0.51724138\n",
            "  0.72413793  0.93103448  1.13793103  1.34482759  1.55172414  1.75862069\n",
            "  1.96551724  2.17241379  2.37931034  2.5862069   2.79310345  3.        ]\n",
            "[0 0 0 0 0 0 0 0 0 0 0 0 0 0 0 1 1 1 1 1 1 1 1 1 1 1 1 1 1 1]\n"
          ]
        },
        {
          "output_type": "display_data",
          "data": {
            "image/png": "[encoded data removed]",
            "text/plain": [
              "<Figure size 432x288 with 1 Axes>"
            ]
          },
          "metadata": {
            "needs_background": "light"
          }
        }
      ]
    },
    {
      "cell_type": "code",
      "source": [
        " #SIGMOID ACTIVATION FUNCTION -binary level"
      ],
      "metadata": {
        "id": "L2OCv6WRHzAR"
      },
      "execution_count": 153,
      "outputs": []
    },
    {
      "cell_type": "code",
      "source": [
        "#z = 1/(1+e^(-x))  formula\n",
        "import numpy as np\n",
        "import matplotlib.pyplot as plt\n",
        "\n",
        "x = np.linspace(-10,10,100)\n",
        "#print(x)\n",
        "\n",
        "def sigmoid(x):\n",
        "  return 1/(1+np.exp(-x)) #sigmoid function\n",
        "\n",
        "\n",
        "z = sigmoid(x) #fuction call\n",
        "#print(x)\n",
        "dz = z*(1-z) #derivative of sigmoid\n",
        "\n",
        "plt.plot(x,z,label ='sigmoid')\n",
        "plt.plot(x,dz,label ='sigmoid')\n",
        "plt.legend()\n",
        "plt.show()\n"
      ],
      "metadata": {
        "colab": {
          "base_uri": "https://localhost:8080/",
          "height": 265
        },
        "id": "EGOvIvx5IJqX",
        "outputId": "29d34e10-7f31-45c7-bcd1-002374bb05e9"
      },
      "execution_count": 154,
      "outputs": [
        {
          "output_type": "display_data",
          "data": {
            "image/png": "[encoded data removed]",
            "text/plain": [
              "<Figure size 432x288 with 1 Axes>"
            ]
          },
          "metadata": {
            "needs_background": "light"
          }
        }
      ]
    },
    {
      "cell_type": "code",
      "source": [
        "import tensorflow as tf\n",
        "x = np.linspace(-3,3,30)\n",
        "relu= tf.nn.relu(x) #sigmoid= tensorflow neural network (nn)\n",
        "plt.plot(x,relu)\n",
        "plt.scatter(x,relu,color ='r')\n",
        "plt.show()"
      ],
      "metadata": {
        "colab": {
          "base_uri": "https://localhost:8080/",
          "height": 265
        },
        "id": "Ot_4Zu6rLrwj",
        "outputId": "c7d9fe59-6d95-43b2-dcf2-1d053eb8360e"
      },
      "execution_count": 155,
      "outputs": [
        {
          "output_type": "display_data",
          "data": {
            "image/png": "[encoded data removed]",
            "text/plain": [
              "<Figure size 432x288 with 1 Axes>"
            ]
          },
          "metadata": {
            "needs_background": "light"
          }
        }
      ]
    },
    {
      "cell_type": "code",
      "source": [
        "import tensorflow as tf\n",
        "x = np.linspace(-10,10,100)\n",
        "sig = tf.nn.sigmoid(x) #sigmoid= tensorflow neural network (nn)\n",
        "plt.plot(x,z)\n",
        "plt.scatter(x,z,color = 'g')\n",
        "plt.show()"
      ],
      "metadata": {
        "colab": {
          "base_uri": "https://localhost:8080/",
          "height": 265
        },
        "id": "6fC3MEU4KMS8",
        "outputId": "7c5a99b0-81d9-4cd2-9968-402b3669a99b"
      },
      "execution_count": 156,
      "outputs": [
        {
          "output_type": "display_data",
          "data": {
            "image/png": "[encoded data removed]",
            "text/plain": [
              "<Figure size 432x288 with 1 Axes>"
            ]
          },
          "metadata": {
            "needs_background": "light"
          }
        }
      ]
    },
    {
      "cell_type": "code",
      "source": [
        "# loss fuctions\n",
        "#regression - mean squred error , mean absolute error\n",
        "#classification - binary cross entropy , categorical cross entropy ,and sparse categoriacl entropy"
      ],
      "metadata": {
        "id": "IEO1HgvUKZbQ"
      },
      "execution_count": 157,
      "outputs": []
    },
    {
      "cell_type": "code",
      "source": [
        "#mean squared error"
      ],
      "metadata": {
        "id": "STDAOaQnPHBv"
      },
      "execution_count": 158,
      "outputs": []
    },
    {
      "cell_type": "code",
      "source": [
        "import numpy as np\n",
        "y_real = np.array([1000,2000,3000])\n",
        "y_pred = np.array([1100,1950,2990])\n",
        "error = np.subtract(y_real,y_pred)\n",
        "error"
      ],
      "metadata": {
        "colab": {
          "base_uri": "https://localhost:8080/"
        },
        "id": "VJy5r2uoPJ0H",
        "outputId": "162a200e-ed83-44e6-affc-760e86449233"
      },
      "execution_count": 159,
      "outputs": [
        {
          "output_type": "execute_result",
          "data": {
            "text/plain": [
              "array([-100,   50,   10])"
            ]
          },
          "metadata": {},
          "execution_count": 159
        }
      ]
    },
    {
      "cell_type": "code",
      "source": [
        "sq_error = np.square(error)\n",
        "sq_error"
      ],
      "metadata": {
        "colab": {
          "base_uri": "https://localhost:8080/"
        },
        "id": "8tu8WGGOPy-7",
        "outputId": "34d4d0ac-fe75-4cc9-c66f-0e91068f9067"
      },
      "execution_count": 160,
      "outputs": [
        {
          "output_type": "execute_result",
          "data": {
            "text/plain": [
              "array([10000,  2500,   100])"
            ]
          },
          "metadata": {},
          "execution_count": 160
        }
      ]
    },
    {
      "cell_type": "code",
      "source": [
        "m_sq_error = np.mean(sq_error)\n",
        "m_sq_error"
      ],
      "metadata": {
        "colab": {
          "base_uri": "https://localhost:8080/"
        },
        "id": "Akh-gwN2Q5xX",
        "outputId": "873708d2-2bf0-4d67-951d-dea066dd0695"
      },
      "execution_count": 161,
      "outputs": [
        {
          "output_type": "execute_result",
          "data": {
            "text/plain": [
              "4200.0"
            ]
          },
          "metadata": {},
          "execution_count": 161
        }
      ]
    },
    {
      "cell_type": "code",
      "source": [
        "#mean absolute error\n",
        "y_real = np.array([1000,2000,3000]) \n",
        "y_pred = np.array([1100,2001,3000])\n",
        "error = np.subtract(y_real,y_pred)\n",
        "error"
      ],
      "metadata": {
        "colab": {
          "base_uri": "https://localhost:8080/"
        },
        "id": "GDBmHQo7RCV1",
        "outputId": "a9ba06c6-0217-4f5a-c01d-f4f9f957c2e8"
      },
      "execution_count": 162,
      "outputs": [
        {
          "output_type": "execute_result",
          "data": {
            "text/plain": [
              "array([-100,   -1,    0])"
            ]
          },
          "metadata": {},
          "execution_count": 162
        }
      ]
    },
    {
      "cell_type": "code",
      "source": [
        "abs_error = np.absolute(error) # mod of error\n",
        "abs_error"
      ],
      "metadata": {
        "colab": {
          "base_uri": "https://localhost:8080/"
        },
        "id": "5BnmoNwhRcHO",
        "outputId": "3d3e2ed5-0f06-4aa5-eb36-d90992093ccd"
      },
      "execution_count": 163,
      "outputs": [
        {
          "output_type": "execute_result",
          "data": {
            "text/plain": [
              "array([100,   1,   0])"
            ]
          },
          "metadata": {},
          "execution_count": 163
        }
      ]
    },
    {
      "cell_type": "code",
      "source": [
        "mae = np.mean(abs_error)\n",
        "mae"
      ],
      "metadata": {
        "colab": {
          "base_uri": "https://localhost:8080/"
        },
        "id": "1c2XLC1KRi7E",
        "outputId": "48642d93-a435-4b80-d1e2-3cb648e07a92"
      },
      "execution_count": 164,
      "outputs": [
        {
          "output_type": "execute_result",
          "data": {
            "text/plain": [
              "33.666666666666664"
            ]
          },
          "metadata": {},
          "execution_count": 164
        }
      ]
    },
    {
      "cell_type": "code",
      "source": [
        "!pip install sklearn"
      ],
      "metadata": {
        "id": "PwDKitG2GZC_",
        "colab": {
          "base_uri": "https://localhost:8080/"
        },
        "outputId": "fc24bed0-8da4-401f-f22f-35d428ef973d"
      },
      "execution_count": 165,
      "outputs": [
        {
          "output_type": "stream",
          "name": "stdout",
          "text": [
            "Requirement already satisfied: sklearn in /usr/local/lib/python3.7/dist-packages (0.0)\n",
            "Requirement already satisfied: scikit-learn in /usr/local/lib/python3.7/dist-packages (from sklearn) (1.0.2)\n",
            "Requirement already satisfied: numpy>=1.14.6 in /usr/local/lib/python3.7/dist-packages (from scikit-learn->sklearn) (1.19.5)\n",
            "Requirement already satisfied: threadpoolctl>=2.0.0 in /usr/local/lib/python3.7/dist-packages (from scikit-learn->sklearn) (3.0.0)\n",
            "Requirement already satisfied: joblib>=0.11 in /usr/local/lib/python3.7/dist-packages (from scikit-learn->sklearn) (1.1.0)\n",
            "Requirement already satisfied: scipy>=1.1.0 in /usr/local/lib/python3.7/dist-packages (from scikit-learn->sklearn) (1.4.1)\n"
          ]
        }
      ]
    },
    {
      "cell_type": "code",
      "source": [
        "from sklearn.metrics import mean_squared_error,mean_absolute_error\n",
        "print(mean_squared_error(y_real,y_pred))\n",
        "print(mean_absolute_error(y_real,y_pred))"
      ],
      "metadata": {
        "id": "ozNF7rqRR5fe",
        "colab": {
          "base_uri": "https://localhost:8080/"
        },
        "outputId": "f02925de-d8ae-418c-dd2e-72c53561c810"
      },
      "execution_count": 166,
      "outputs": [
        {
          "output_type": "stream",
          "name": "stdout",
          "text": [
            "3333.6666666666665\n",
            "33.666666666666664\n"
          ]
        }
      ]
    },
    {
      "cell_type": "code",
      "source": [
        "#BINARY CROSS ENTROPY\n",
        "#measure of the difference between two probabilities is BCE\n",
        "#BCE =  - { [y*log(p)] +[(1-y) *log(1-p)] }\n",
        "import numpy as np\n",
        "from math import log\n",
        "\n",
        "y = [1,1,1,1,0,0,0,0] #actual/real values\n",
        "p = [0.8,0.75,0.7,0.5,0.3,0.3,0.4,0.1]# predicted values\n",
        "\n",
        "def binary_ce(y,p):\n",
        "  return - ((y*log(p)) +((1-y) *log(1-p)) )\n",
        "\n",
        "result = []\n",
        "for i in range(len(y)): #range of bce all 8 values in y\n",
        "  ce = binary_ce(y[i],p[i])\n",
        "  result.append(ce)\n",
        "\n",
        "mean_ce = np.mean(result)\n",
        "print(mean_ce)"
      ],
      "metadata": {
        "id": "XEwZ-ECeR3fw",
        "colab": {
          "base_uri": "https://localhost:8080/"
        },
        "outputId": "455ca8e3-7018-489b-9bd0-ad15ed9df833"
      },
      "execution_count": 167,
      "outputs": [
        {
          "output_type": "stream",
          "name": "stdout",
          "text": [
            "0.3612729719457438\n"
          ]
        }
      ]
    },
    {
      "cell_type": "code",
      "source": [
        "#implementing directly with tensorflow\n",
        "from tensorflow import keras\n",
        "bce = keras.losses.BinaryCrossentropy()\n",
        "bce(y,p).numpy()"
      ],
      "metadata": {
        "colab": {
          "base_uri": "https://localhost:8080/"
        },
        "id": "MP1tkrwyOFCt",
        "outputId": "d5e45a86-bf50-49d1-8520-2231002ea6d3"
      },
      "execution_count": 168,
      "outputs": [
        {
          "output_type": "execute_result",
          "data": {
            "text/plain": [
              "0.3612728"
            ]
          },
          "metadata": {},
          "execution_count": 168
        }
      ]
    },
    {
      "cell_type": "code",
      "source": [
        "#GRADIENT DESCENT ALGORITHM OPTIMIZATION"
      ],
      "metadata": {
        "id": "Ev39oB6LOl2M"
      },
      "execution_count": 169,
      "outputs": []
    },
    {
      "cell_type": "code",
      "source": [
        "from sklearn.datasets import make_regression\n",
        "import numpy as np"
      ],
      "metadata": {
        "id": "QJJp4WsPZ96f"
      },
      "execution_count": 170,
      "outputs": []
    },
    {
      "cell_type": "code",
      "source": [
        "#linear regression using ordinary least square method and gradient descent method\n",
        "#in both cases we have to find the best fit line\n"
      ],
      "metadata": {
        "id": "kU4usCw9aIjB"
      },
      "execution_count": 171,
      "outputs": []
    },
    {
      "cell_type": "code",
      "source": [
        "x,y = make_regression(n_samples=4,n_features = 1,n_informative = 1 ,n_targets = 1,noise = 80,random_state =13)\n"
      ],
      "metadata": {
        "id": "gZs-HyJ6bk4i"
      },
      "execution_count": 172,
      "outputs": []
    },
    {
      "cell_type": "code",
      "source": [
        "import matplotlib.pyplot as plt\n",
        "plt.scatter(x,y)"
      ],
      "metadata": {
        "colab": {
          "base_uri": "https://localhost:8080/",
          "height": 283
        },
        "id": "m3i8NSsrclLL",
        "outputId": "15713e67-5581-4c8f-967b-92c86a8ca9f5"
      },
      "execution_count": 173,
      "outputs": [
        {
          "output_type": "execute_result",
          "data": {
            "text/plain": [
              "<matplotlib.collections.PathCollection at 0x7f67c7917bd0>"
            ]
          },
          "metadata": {},
          "execution_count": 173
        },
        {
          "output_type": "display_data",
          "data": {
            "image/png": "[encoded data removed]",
            "text/plain": [
              "<Figure size 432x288 with 1 Axes>"
            ]
          },
          "metadata": {
            "needs_background": "light"
          }
        }
      ]
    },
    {
      "cell_type": "code",
      "source": [
        "x"
      ],
      "metadata": {
        "colab": {
          "base_uri": "https://localhost:8080/"
        },
        "id": "tsDhKNFAdLDr",
        "outputId": "288a984d-7f30-4ecb-e56f-fd462b446cd7"
      },
      "execution_count": 174,
      "outputs": [
        {
          "output_type": "execute_result",
          "data": {
            "text/plain": [
              "array([[-0.71239066],\n",
              "       [ 0.45181234],\n",
              "       [-0.04450308],\n",
              "       [ 0.75376638]])"
            ]
          },
          "metadata": {},
          "execution_count": 174
        }
      ]
    },
    {
      "cell_type": "code",
      "source": [
        "x.ndim"
      ],
      "metadata": {
        "colab": {
          "base_uri": "https://localhost:8080/"
        },
        "id": "Er1BtasidPdp",
        "outputId": "8ea4d290-ee87-4e83-81e0-60e030798f22"
      },
      "execution_count": 175,
      "outputs": [
        {
          "output_type": "execute_result",
          "data": {
            "text/plain": [
              "2"
            ]
          },
          "metadata": {},
          "execution_count": 175
        }
      ]
    },
    {
      "cell_type": "code",
      "source": [
        "y.ndim"
      ],
      "metadata": {
        "colab": {
          "base_uri": "https://localhost:8080/"
        },
        "id": "9Ft3fwdqdRCz",
        "outputId": "37c0780c-83eb-4755-a4a3-71351b2ee4c5"
      },
      "execution_count": 176,
      "outputs": [
        {
          "output_type": "execute_result",
          "data": {
            "text/plain": [
              "1"
            ]
          },
          "metadata": {},
          "execution_count": 176
        }
      ]
    },
    {
      "cell_type": "code",
      "source": [
        "y#real outpuy"
      ],
      "metadata": {
        "colab": {
          "base_uri": "https://localhost:8080/"
        },
        "id": "oX7b-O8edM4D",
        "outputId": "8f96aca2-a264-40ba-817d-f1c83f95d939"
      },
      "execution_count": 177,
      "outputs": [
        {
          "output_type": "execute_result",
          "data": {
            "text/plain": [
              "array([  7.21786552,  16.04609925, -27.83756166, 144.36688189])"
            ]
          },
          "metadata": {},
          "execution_count": 177
        }
      ]
    },
    {
      "cell_type": "code",
      "source": [
        "from sklearn.linear_model import LinearRegression\n",
        "ols = LinearRegression()\n",
        "ols.fit(x,y)"
      ],
      "metadata": {
        "colab": {
          "base_uri": "https://localhost:8080/"
        },
        "id": "N2vk29CqdUKp",
        "outputId": "e2097e76-24e0-4c45-cc04-1955dd1d471e"
      },
      "execution_count": 178,
      "outputs": [
        {
          "output_type": "execute_result",
          "data": {
            "text/plain": [
              "LinearRegression()"
            ]
          },
          "metadata": {},
          "execution_count": 178
        }
      ]
    },
    {
      "cell_type": "code",
      "source": [
        "ols_pred=ols.predict(x) #predict\n",
        "ols_pred"
      ],
      "metadata": {
        "colab": {
          "base_uri": "https://localhost:8080/"
        },
        "id": "Z6spn2HrdoMX",
        "outputId": "f51c0d3d-0ba6-46da-a072-7a92ad4879f1"
      },
      "execution_count": 179,
      "outputs": [
        {
          "output_type": "execute_result",
          "data": {
            "text/plain": [
              "array([-29.65662909,  61.55941724,  22.67278832,  85.21770852])"
            ]
          },
          "metadata": {},
          "execution_count": 179
        }
      ]
    },
    {
      "cell_type": "code",
      "source": [
        "ols.coef_ #slope/ m value"
      ],
      "metadata": {
        "colab": {
          "base_uri": "https://localhost:8080/"
        },
        "id": "AqIgRAy_dN4J",
        "outputId": "ba20c164-76d9-430e-a0d5-78f4d53e7d51"
      },
      "execution_count": 180,
      "outputs": [
        {
          "output_type": "execute_result",
          "data": {
            "text/plain": [
              "array([78.35063668])"
            ]
          },
          "metadata": {},
          "execution_count": 180
        }
      ]
    },
    {
      "cell_type": "code",
      "source": [
        "ols.intercept_ #intercept/c value"
      ],
      "metadata": {
        "colab": {
          "base_uri": "https://localhost:8080/"
        },
        "id": "0-LqbkaYd5Bb",
        "outputId": "0d990e4c-556b-432c-bdf4-8860c5708ed0"
      },
      "execution_count": 181,
      "outputs": [
        {
          "output_type": "execute_result",
          "data": {
            "text/plain": [
              "26.15963284313262"
            ]
          },
          "metadata": {},
          "execution_count": 181
        }
      ]
    },
    {
      "cell_type": "code",
      "source": [
        "plt.scatter(x,y)\n",
        "plt.plot(x,ols_pred,c='g')\n",
        "plt.show()\n"
      ],
      "metadata": {
        "colab": {
          "base_uri": "https://localhost:8080/",
          "height": 266
        },
        "id": "iZ4HUzKieDkk",
        "outputId": "e8d601d4-762c-4465-87db-0d1e9e2e6d85"
      },
      "execution_count": 182,
      "outputs": [
        {
          "output_type": "display_data",
          "data": {
            "image/png": "[encoded data removed]",
            "text/plain": [
              "<Figure size 432x288 with 1 Axes>"
            ]
          },
          "metadata": {
            "needs_background": "light"
          }
        }
      ]
    },
    {
      "cell_type": "code",
      "source": [
        "#we will change the value of c only (from 0) #Aplying gradient descent algorithm to find best fit line keeping m const at 78.35\n"
      ],
      "metadata": {
        "id": "acJBnrgLeiMs"
      },
      "execution_count": 184,
      "outputs": []
    },
    {
      "cell_type": "code",
      "source": [
        "y_pred = ((78.3506 *x)+0)\n",
        "print(y_pred) # intially a matrix"
      ],
      "metadata": {
        "id": "XmPImfhXeIdx",
        "colab": {
          "base_uri": "https://localhost:8080/"
        },
        "outputId": "35060ce4-0d4e-4bb0-ba61-4c584893ad4c"
      },
      "execution_count": 185,
      "outputs": [
        {
          "output_type": "stream",
          "name": "stdout",
          "text": [
            "[[-55.81623581]\n",
            " [ 35.39976783]\n",
            " [ -3.48684289]\n",
            " [ 59.05804803]]\n"
          ]
        }
      ]
    },
    {
      "cell_type": "code",
      "source": [
        "#convert to a vector ie reshape\n",
        "y_pred = ((78.3506 *x)+0).reshape(4)\n",
        "print(y_pred)"
      ],
      "metadata": {
        "colab": {
          "base_uri": "https://localhost:8080/"
        },
        "id": "JNxYUmmRMZRr",
        "outputId": "3e0b87d5-7054-45ba-b14b-34c4cb7a9601"
      },
      "execution_count": 186,
      "outputs": [
        {
          "output_type": "stream",
          "name": "stdout",
          "text": [
            "[-55.81623581  35.39976783  -3.48684289  59.05804803]\n"
          ]
        }
      ]
    },
    {
      "cell_type": "code",
      "source": [
        "plt.scatter(x,y,color ='k')\n",
        "plt.plot(x,ols_pred,color='r',label='OLS')\n",
        "plt.legend()\n",
        "plt.show()"
      ],
      "metadata": {
        "colab": {
          "base_uri": "https://localhost:8080/",
          "height": 266
        },
        "id": "icwC8hjGNrn0",
        "outputId": "10245146-f8a1-4492-ed37-5d04a703f87a"
      },
      "execution_count": 183,
      "outputs": [
        {
          "output_type": "display_data",
          "data": {
            "image/png": "[encoded data removed]",
            "text/plain": [
              "<Figure size 432x288 with 1 Axes>"
            ]
          },
          "metadata": {
            "needs_background": "light"
          }
        }
      ]
    },
    {
      "cell_type": "code",
      "source": [
        "#iteration 1\n",
        "m=78.6\n",
        "c=0\n",
        "loss_slope =-2*np.sum(y-m*x.ravel()-c)\n",
        "loss_slope"
      ],
      "metadata": {
        "colab": {
          "base_uri": "https://localhost:8080/"
        },
        "id": "l3qtVNZISG60",
        "outputId": "1efd0562-2fa9-4903-e7ec-ccab5d291039"
      },
      "execution_count": 187,
      "outputs": [
        {
          "output_type": "execute_result",
          "data": {
            "text/plain": [
              "-209.0532915935837"
            ]
          },
          "metadata": {},
          "execution_count": 187
        }
      ]
    },
    {
      "cell_type": "code",
      "source": [
        "#learning rate as 0.1\n",
        "lr =0.1\n",
        "step_size =loss_slope*lr\n",
        "step_size"
      ],
      "metadata": {
        "colab": {
          "base_uri": "https://localhost:8080/"
        },
        "id": "mi4yPygVSUi8",
        "outputId": "253e5185-2e8c-4285-9359-f717441d2773"
      },
      "execution_count": 188,
      "outputs": [
        {
          "output_type": "execute_result",
          "data": {
            "text/plain": [
              "-20.905329159358374"
            ]
          },
          "metadata": {},
          "execution_count": 188
        }
      ]
    },
    {
      "cell_type": "code",
      "source": [
        "#updated c value\n",
        "c = c-step_size\n",
        "c"
      ],
      "metadata": {
        "colab": {
          "base_uri": "https://localhost:8080/"
        },
        "id": "wj4_jQxISyux",
        "outputId": "84a8d8ef-5886-4e73-9b14-a2498cafdc49"
      },
      "execution_count": 202,
      "outputs": [
        {
          "output_type": "execute_result",
          "data": {
            "text/plain": [
              "41.81065831871675"
            ]
          },
          "metadata": {},
          "execution_count": 202
        }
      ]
    },
    {
      "cell_type": "code",
      "source": [
        "m=78.6\n",
        "\n",
        "loss_slope =-2*np.sum(y-m*x.ravel()-c)\n",
        "loss_slope"
      ],
      "metadata": {
        "colab": {
          "base_uri": "https://localhost:8080/"
        },
        "id": "-opLbZgrSmBN",
        "outputId": "d70084d8-e620-469c-89e9-a573058526ce"
      },
      "execution_count": 203,
      "outputs": [
        {
          "output_type": "execute_result",
          "data": {
            "text/plain": [
              "125.43197495615027"
            ]
          },
          "metadata": {},
          "execution_count": 203
        }
      ]
    },
    {
      "cell_type": "code",
      "source": [
        "y_pred1 = ((78.3506 *x)+0).reshape(4)\n",
        "plt.scatter(x,y)\n",
        "plt.plot(x,ols_pred)\n",
        "plt.plot(x,y_pred1)"
      ],
      "metadata": {
        "colab": {
          "base_uri": "https://localhost:8080/",
          "height": 282
        },
        "id": "q7Ayi4npS9GW",
        "outputId": "00f8fe70-3503-44f3-fc79-351eedac0740"
      },
      "execution_count": 204,
      "outputs": [
        {
          "output_type": "execute_result",
          "data": {
            "text/plain": [
              "[<matplotlib.lines.Line2D at 0x7f67c6e1f5d0>]"
            ]
          },
          "metadata": {},
          "execution_count": 204
        },
        {
          "output_type": "display_data",
          "data": {
            "image/png": "[encoded data removed]",
            "text/plain": [
              "<Figure size 432x288 with 1 Axes>"
            ]
          },
          "metadata": {
            "needs_background": "light"
          }
        }
      ]
    },
    {
      "cell_type": "code",
      "source": [
        "plt.scatter(x,y,color ='k')\n",
        "plt.plot(x,ols_pred,color='r',label='OLS')\n",
        "plt.plot(x,y_pred,color='g',label ='c=0')\n",
        "plt.legend( )\n",
        "plt.show()"
      ],
      "metadata": {
        "colab": {
          "base_uri": "https://localhost:8080/",
          "height": 266
        },
        "id": "A5_NVUsFMor1",
        "outputId": "7b8c6971-d157-406d-ad59-68c9f71e736d"
      },
      "execution_count": 205,
      "outputs": [
        {
          "output_type": "display_data",
          "data": {
            "image/png": "[encoded data removed]",
            "text/plain": [
              "<Figure size 432x288 with 1 Axes>"
            ]
          },
          "metadata": {
            "needs_background": "light"
          }
        }
      ]
    },
    {
      "cell_type": "code",
      "source": [
        "loss_slope =-2*np.sum(y-m*x.ravel()-c)\n",
        "loss_slope"
      ],
      "metadata": {
        "colab": {
          "base_uri": "https://localhost:8080/"
        },
        "id": "ylGa223PT5rC",
        "outputId": "f785b8d3-3943-4f31-f096-e91fdb5858cf"
      },
      "execution_count": 193,
      "outputs": [
        {
          "output_type": "execute_result",
          "data": {
            "text/plain": [
              "-209.0532915935837"
            ]
          },
          "metadata": {},
          "execution_count": 193
        }
      ]
    },
    {
      "cell_type": "code",
      "source": [
        "y_pred2 = ((78.3506 *x)+0).reshape(4)\n",
        "plt.figure(figsize=(15,20))\n",
        "plt.scatter(x,y)\n",
        "plt.plot(x,ols_pred,linewidth=3)\n",
        "plt.plot(x,y_pred1,color='g')\n",
        "plt.plot(x,y_pred2,color='k')\n",
        "plt.show()"
      ],
      "metadata": {
        "colab": {
          "base_uri": "https://localhost:8080/",
          "height": 1000
        },
        "id": "Wqg-G3UCUW-A",
        "outputId": "f497d74f-32f1-4111-d9cb-f260d82c4d8b"
      },
      "execution_count": 206,
      "outputs": [
        {
          "output_type": "display_data",
          "data": {
            "image/png": "[encoded data removed]",
            "text/plain": [
              "<Figure size 1080x1440 with 1 Axes>"
            ]
          },
          "metadata": {
            "needs_background": "light"
          }
        }
      ]
    },
    {
      "cell_type": "code",
      "source": [
        "#learning rate as 0.1\n",
        "lr =0.1\n",
        "step_size =loss_slope*lr\n",
        "step_size"
      ],
      "metadata": {
        "colab": {
          "base_uri": "https://localhost:8080/"
        },
        "id": "kHGKJY5HT1nE",
        "outputId": "65663f6e-a6bf-48c2-ee9d-17839ffd1fb8"
      },
      "execution_count": 195,
      "outputs": [
        {
          "output_type": "execute_result",
          "data": {
            "text/plain": [
              "-20.905329159358374"
            ]
          },
          "metadata": {},
          "execution_count": 195
        }
      ]
    },
    {
      "cell_type": "code",
      "source": [
        "c=0\n",
        "m=7.8\n",
        "#learning  rate as 0.1\n",
        "lr=0.1\n",
        "epochs =10\n",
        " \n",
        "plt.figure(figsize=(15,15))\n",
        "for i in range(epochs):\n",
        "  loss_slope =-2*np.sum(y-m*x.ravel()-c) #gradient descent formula\n",
        "  c = c -(lr *loss_slope) #updated intercepr value after iteration\n",
        "  y_pred = m*x+c\n",
        "  plt.plot(x,y_pred)\n",
        "\n",
        "plt.scatter(x,y)\n",
        "plt.scatter(x,y,color ='k')\n",
        "plt.plot(x,ols_pred,color='r',label='OLS')\n",
        "plt.plot(x,y_pred,color='g',label ='c=0')\n",
        "plt.legend()\n",
        "plt.show()"
      ],
      "metadata": {
        "colab": {
          "base_uri": "https://localhost:8080/",
          "height": 863
        },
        "id": "T7I_AqevOIja",
        "outputId": "19319859-1e75-4bf8-e1fc-6eb47003fddb"
      },
      "execution_count": 209,
      "outputs": [
        {
          "output_type": "display_data",
          "data": {
            "image/png": "[encoded data removed]",
            "text/plain": [
              "<Figure size 1080x1080 with 1 Axes>"
            ]
          },
          "metadata": {
            "needs_background": "light"
          }
        }
      ]
    }
  ]
}