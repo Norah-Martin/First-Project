{
  "nbformat": 4,
  "nbformat_minor": 0,
  "metadata": {
    "colab": {
      "name": "basicpy3.ipynb",
      "provenance": [],
      "collapsed_sections": [],
      "authorship_tag": "ABX9TyPjKiCH7OMjL3ati0DOgN5B",
      "include_colab_link": true
    },
    "kernelspec": {
      "name": "python3",
      "display_name": "Python 3"
    },
    "language_info": {
      "name": "python"
    }
  },
  "cells": [
    {
      "cell_type": "markdown",
      "metadata": {
        "id": "view-in-github",
        "colab_type": "text"
      },
      "source": [
        "<a href=\"https://colab.research.google.com/github/Norah-Martin/Norah-Martin/blob/main/basicpy3.ipynb\" target=\"_parent\"><img src=\"https://colab.research.google.com/assets/colab-badge.svg\" alt=\"Open In Colab\"/></a>"
      ]
    },
    {
      "cell_type": "code",
      "execution_count": null,
      "metadata": {
        "id": "n1pFS18nlhwa"
      },
      "outputs": [],
      "source": [
        "# loops\n",
        "#while\n",
        "# for"
      ]
    },
    {
      "cell_type": "code",
      "source": [
        "a = 0\n",
        "while(a < 10):\n",
        "  print(a)\n",
        "  a = a+1\n",
        "#a++ not possible\n",
        "#true (infinte loop)"
      ],
      "metadata": {
        "colab": {
          "base_uri": "https://localhost:8080/"
        },
        "id": "4NIfzhlzmvaJ",
        "outputId": "ccec8772-96ec-4fb1-cdc7-d2eff87c37d8"
      },
      "execution_count": 9,
      "outputs": [
        {
          "output_type": "stream",
          "name": "stdout",
          "text": [
            "0\n",
            "1\n",
            "2\n",
            "3\n",
            "4\n",
            "5\n",
            "6\n",
            "7\n",
            "8\n",
            "9\n"
          ]
        }
      ]
    },
    {
      "cell_type": "code",
      "source": [
        "i = 1\n",
        "n = 2\n",
        "while( i <= 10):\n",
        "  print(n,\"'\",i,\"'\",n*i)\n",
        "  i=i+1"
      ],
      "metadata": {
        "colab": {
          "base_uri": "https://localhost:8080/"
        },
        "id": "dc_olNCaniq7",
        "outputId": "29412dc5-83e7-4f85-f89e-f5eb0eb0020d"
      },
      "execution_count": 11,
      "outputs": [
        {
          "output_type": "stream",
          "name": "stdout",
          "text": [
            "2 ' 1 ' 2\n",
            "2 ' 2 ' 4\n",
            "2 ' 3 ' 6\n",
            "2 ' 4 ' 8\n",
            "2 ' 5 ' 10\n",
            "2 ' 6 ' 12\n",
            "2 ' 7 ' 14\n",
            "2 ' 8 ' 16\n",
            "2 ' 9 ' 18\n",
            "2 ' 10 ' 20\n"
          ]
        }
      ]
    },
    {
      "cell_type": "code",
      "source": [
        "#break() - terminates the loop and resumes execute the next stmt\n",
        "#and continue()\n",
        " \n",
        "a =10 \n",
        "while(a > 0):\n",
        "  print(a)\n",
        "  a = a-1\n",
        "  if a == 5:\n",
        "    break #if a value reaches then it does not repeat\n",
        "print(\"hello\")\n",
        "\n"
      ],
      "metadata": {
        "colab": {
          "base_uri": "https://localhost:8080/"
        },
        "id": "_y6UhZJfn_bR",
        "outputId": "71585879-c73c-4878-c0e1-4bea1acb9ff6"
      },
      "execution_count": 16,
      "outputs": [
        {
          "output_type": "stream",
          "name": "stdout",
          "text": [
            "10\n",
            "9\n",
            "8\n",
            "7\n",
            "6\n",
            "hello\n"
          ]
        }
      ]
    },
    {
      "cell_type": "code",
      "source": [
        "#continue()- returns the control to the beginning of the loop and continue the other stmt\n",
        "b = 10\n",
        "while b > 0:\n",
        "  b = b-1\n",
        "  if b == 5: #excepr 5 all others are available\n",
        "    continue\n",
        "  print(\"current value of b\",b)\n",
        "print(\"hello\")"
      ],
      "metadata": {
        "colab": {
          "base_uri": "https://localhost:8080/"
        },
        "id": "-zXZNebgt0tJ",
        "outputId": "65312304-8027-49ac-a1d6-798a32a08672"
      },
      "execution_count": 17,
      "outputs": [
        {
          "output_type": "stream",
          "name": "stdout",
          "text": [
            "current value of b 9\n",
            "current value of b 8\n",
            "current value of b 7\n",
            "current value of b 6\n",
            "current value of b 4\n",
            "current value of b 3\n",
            "current value of b 2\n",
            "current value of b 1\n",
            "current value of b 0\n",
            "hello\n"
          ]
        }
      ]
    },
    {
      "cell_type": "code",
      "source": [
        "b = 10\n",
        "while b > 0:\n",
        "  b = b-1\n",
        "  \n",
        "    \n",
        "  print(\"current value of b\",b)\n",
        "print(\"hello\")"
      ],
      "metadata": {
        "colab": {
          "base_uri": "https://localhost:8080/"
        },
        "id": "AgHkJI7SoeEc",
        "outputId": "44e44c22-855d-4a26-83b4-0a2885372e1c"
      },
      "execution_count": 18,
      "outputs": [
        {
          "output_type": "stream",
          "name": "stdout",
          "text": [
            "current value of b 9\n",
            "current value of b 8\n",
            "current value of b 7\n",
            "current value of b 6\n",
            "current value of b 5\n",
            "current value of b 4\n",
            "current value of b 3\n",
            "current value of b 2\n",
            "current value of b 1\n",
            "current value of b 0\n",
            "hello\n"
          ]
        }
      ]
    },
    {
      "cell_type": "code",
      "source": [
        "#pass() is used when a stmt is required but u dont want any command or  code to execute it\n",
        "while True:\n",
        "  print(\"a\")\n",
        "  pass"
      ],
      "metadata": {
        "id": "ac2jv4fbuhjG"
      },
      "execution_count": null,
      "outputs": []
    },
    {
      "cell_type": "code",
      "source": [
        "#*\n",
        "#* *\n",
        "#* * *\n",
        "i= 0\n",
        "while(i <= 4):\n",
        "  print(i*\"*\")\n",
        "  i = i+1"
      ],
      "metadata": {
        "colab": {
          "base_uri": "https://localhost:8080/"
        },
        "id": "cCbdoqgOvGTm",
        "outputId": "25010a21-cf58-418c-a6ca-2fb11ddc894b"
      },
      "execution_count": 23,
      "outputs": [
        {
          "output_type": "stream",
          "name": "stdout",
          "text": [
            "\n",
            "*\n",
            "**\n",
            "***\n",
            "****\n"
          ]
        }
      ]
    },
    {
      "cell_type": "code",
      "source": [
        "#nested while loops\n",
        "n = int(input(\"enter the no of times\"))\n",
        " \n",
        "i = 1\n",
        "while i <= n :\n",
        "  j = 1\n",
        "  while j <= i:\n",
        "    print(\"*\",end=\"\")\n",
        "    j = j+1\n",
        "\n",
        "  print()\n",
        "  i = i+1\n",
        "\n",
        "\n"
      ],
      "metadata": {
        "colab": {
          "base_uri": "https://localhost:8080/"
        },
        "id": "whC9xMjOwGKG",
        "outputId": "5d110966-e1f4-4d98-df8c-af6740d9102b"
      },
      "execution_count": 37,
      "outputs": [
        {
          "output_type": "stream",
          "name": "stdout",
          "text": [
            "enter the no of times3\n",
            "*\n",
            "**\n",
            "***\n"
          ]
        }
      ]
    },
    {
      "cell_type": "code",
      "source": [
        ""
      ],
      "metadata": {
        "id": "ARx2-Ixo1bO5"
      },
      "execution_count": null,
      "outputs": []
    },
    {
      "cell_type": "code",
      "source": [
        ""
      ],
      "metadata": {
        "id": "CNz0yJKO04Dh"
      },
      "execution_count": null,
      "outputs": []
    }
  ]
}