{
  "nbformat": 4,
  "nbformat_minor": 0,
  "metadata": {
    "colab": {
      "name": "basic2py.ipynb",
      "provenance": [],
      "collapsed_sections": [],
      "authorship_tag": "ABX9TyOSrHicrDUnVW/dxxo7ANpd",
      "include_colab_link": true
    },
    "kernelspec": {
      "name": "python3",
      "display_name": "Python 3"
    },
    "language_info": {
      "name": "python"
    }
  },
  "cells": [
    {
      "cell_type": "markdown",
      "metadata": {
        "id": "view-in-github",
        "colab_type": "text"
      },
      "source": [
        "<a href=\"https://colab.research.google.com/github/Norah-Martin/Norah-Martin/blob/main/basic2py.ipynb\" target=\"_parent\"><img src=\"https://colab.research.google.com/assets/colab-badge.svg\" alt=\"Open In Colab\"/></a>"
      ]
    },
    {
      "cell_type": "code",
      "execution_count": 1,
      "metadata": {
        "id": "bsBrssxOEq12"
      },
      "outputs": [],
      "source": [
        "#IF ,ELSE ,ELIF"
      ]
    },
    {
      "cell_type": "code",
      "source": [
        "a = 9\n",
        "if(a%2==0):\n",
        "  print(\"EVEN NUMBER!\")\n",
        "if(a%2!=0):\n",
        "  print(\"odd  number!\")"
      ],
      "metadata": {
        "colab": {
          "base_uri": "https://localhost:8080/"
        },
        "id": "xCInN-xFFE5C",
        "outputId": "631851a8-e276-4d28-a768-ad20082d1f49"
      },
      "execution_count": 2,
      "outputs": [
        {
          "output_type": "stream",
          "name": "stdout",
          "text": [
            "odd  number!\n"
          ]
        }
      ]
    },
    {
      "cell_type": "code",
      "source": [
        "a = 9\n",
        "if(a%2 == 0):\n",
        "  print(\"even!\")\n",
        "else:\n",
        "  print(\"odd!\")"
      ],
      "metadata": {
        "colab": {
          "base_uri": "https://localhost:8080/"
        },
        "id": "ijzni0EiGBkX",
        "outputId": "bd98f7c4-d9a8-49b7-c5f9-95370570646d"
      },
      "execution_count": 3,
      "outputs": [
        {
          "output_type": "stream",
          "name": "stdout",
          "text": [
            "odd!\n"
          ]
        }
      ]
    },
    {
      "cell_type": "code",
      "source": [
        "#: instead of {},and no semicolon"
      ],
      "metadata": {
        "id": "Gk2wN3zBF-Vh"
      },
      "execution_count": 4,
      "outputs": []
    },
    {
      "cell_type": "code",
      "source": [
        "a = int(input(\"enter a number :\"))\n",
        "if(a%2 == 0):\n",
        "  print(\"even!\")\n",
        "else:\n",
        "  print(\"odd!\")"
      ],
      "metadata": {
        "id": "QVEzR8YvFFRe",
        "colab": {
          "base_uri": "https://localhost:8080/"
        },
        "outputId": "489e5f18-60a3-41e3-fc32-b068874a7a9c"
      },
      "execution_count": 5,
      "outputs": [
        {
          "output_type": "stream",
          "name": "stdout",
          "text": [
            "enter a number :6\n",
            "even!\n"
          ]
        }
      ]
    },
    {
      "cell_type": "code",
      "source": [
        ""
      ],
      "metadata": {
        "id": "h3B9VCQiII-J"
      },
      "execution_count": 5,
      "outputs": []
    },
    {
      "cell_type": "code",
      "source": [
        "# elif statement\n",
        "x = input(\"enter weather condition :\")\n",
        "\n",
        "x = x.lower() #converts to lower case\n",
        "\n",
        "if((x == \"summer\") |(x == \"SUMMER\")|(x ==\"Summer!\")):\n",
        "  print(\"summer season!\")\n",
        "\n",
        "elif(x ==\"winter\"):\n",
        "  print(\"winter season!\")\n",
        "\n",
        "elif(x==\"monsoon\"):\n",
        "  print(\"rainy!\")\n",
        "\n",
        "else:\n",
        "  print(\"sorry!\")\n"
      ],
      "metadata": {
        "colab": {
          "base_uri": "https://localhost:8080/"
        },
        "id": "NBLYxHPpHmVx",
        "outputId": "6f2fbf6f-de98-43cc-88ac-405c03212fae"
      },
      "execution_count": 6,
      "outputs": [
        {
          "output_type": "stream",
          "name": "stdout",
          "text": [
            "enter weather condition :winter\n",
            "winter season!\n"
          ]
        }
      ]
    },
    {
      "cell_type": "code",
      "source": [
        "# | - bitwise or(shift \\) ,|| -logical or , &(shift 7), &&  !-NOT ^ - XOR gate\n",
        "\n",
        "#bitwise returns the bits or values\n",
        "#logical when u need true or false (boolean condition)"
      ],
      "metadata": {
        "id": "uVLYeb5EImml"
      },
      "execution_count": 7,
      "outputs": []
    },
    {
      "cell_type": "code",
      "source": [
        "#SEQUENCES- containers(stores data)\n",
        "#arrays-similar kind of data under one name\n",
        "\n",
        "#Examples of sequences in pythom\n",
        "#LISTS\n",
        "#TUPLE\n",
        "#SET\n",
        "#DICTIONARY"
      ],
      "metadata": {
        "id": "ClPiZLzKK3TF"
      },
      "execution_count": 8,
      "outputs": []
    },
    {
      "cell_type": "code",
      "source": [
        "#LISTS(versatile sequence on python)\n",
        "\n",
        "a = [1,2,3,4,5]"
      ],
      "metadata": {
        "id": "-hNeCjnFJ_mh"
      },
      "execution_count": 9,
      "outputs": []
    },
    {
      "cell_type": "code",
      "source": [
        "b = [10, 14,12,15,20]"
      ],
      "metadata": {
        "id": "z7KgYhC_He6-"
      },
      "execution_count": 10,
      "outputs": []
    },
    {
      "cell_type": "code",
      "source": [
        "a+b #combine"
      ],
      "metadata": {
        "colab": {
          "base_uri": "https://localhost:8080/"
        },
        "id": "unVf7OR1HpED",
        "outputId": "7a70f429-a93f-4547-d550-bc62a22cb47a"
      },
      "execution_count": 11,
      "outputs": [
        {
          "output_type": "execute_result",
          "data": {
            "text/plain": [
              "[1, 2, 3, 4, 5, 10, 14, 12, 15, 20]"
            ]
          },
          "metadata": {},
          "execution_count": 11
        }
      ]
    },
    {
      "cell_type": "code",
      "source": [
        "a[4]+b[2]"
      ],
      "metadata": {
        "colab": {
          "base_uri": "https://localhost:8080/"
        },
        "id": "aef-k2WQHr-f",
        "outputId": "c3ba6201-7d41-40d7-f1ab-40705157c0b0"
      },
      "execution_count": 12,
      "outputs": [
        {
          "output_type": "execute_result",
          "data": {
            "text/plain": [
              "17"
            ]
          },
          "metadata": {},
          "execution_count": 12
        }
      ]
    },
    {
      "cell_type": "code",
      "source": [
        "a[2]+b[3]"
      ],
      "metadata": {
        "colab": {
          "base_uri": "https://localhost:8080/"
        },
        "id": "PfhhtAUoHzIc",
        "outputId": "fea89a91-039d-4c83-fb0d-213a7a12d47c"
      },
      "execution_count": 13,
      "outputs": [
        {
          "output_type": "execute_result",
          "data": {
            "text/plain": [
              "18"
            ]
          },
          "metadata": {},
          "execution_count": 13
        }
      ]
    },
    {
      "cell_type": "markdown",
      "source": [
        ""
      ],
      "metadata": {
        "id": "dXke9RthISlY"
      }
    },
    {
      "cell_type": "code",
      "source": [
        "c = [15,2,7,5,1]"
      ],
      "metadata": {
        "id": "uHwdSY7UH-uT"
      },
      "execution_count": 14,
      "outputs": []
    },
    {
      "cell_type": "code",
      "source": [
        "d = b+c\n",
        "d"
      ],
      "metadata": {
        "colab": {
          "base_uri": "https://localhost:8080/"
        },
        "id": "SkaxNVONIDgB",
        "outputId": "b8056620-5e10-480f-a14a-c4b03a7a5a95"
      },
      "execution_count": 15,
      "outputs": [
        {
          "output_type": "execute_result",
          "data": {
            "text/plain": [
              "[10, 14, 12, 15, 20, 15, 2, 7, 5, 1]"
            ]
          },
          "metadata": {},
          "execution_count": 15
        }
      ]
    },
    {
      "cell_type": "code",
      "source": [
        "d.sort()#sorting list in ascending order\n",
        "d"
      ],
      "metadata": {
        "colab": {
          "base_uri": "https://localhost:8080/"
        },
        "id": "rkRP5RL9IKkl",
        "outputId": "ed6eb786-39ed-4554-ba79-7b4a2f07c18c"
      },
      "execution_count": 16,
      "outputs": [
        {
          "output_type": "execute_result",
          "data": {
            "text/plain": [
              "[1, 2, 5, 7, 10, 12, 14, 15, 15, 20]"
            ]
          },
          "metadata": {},
          "execution_count": 16
        }
      ]
    },
    {
      "cell_type": "code",
      "source": [
        "d.sort(reverse=True) #sorting elements in descending order\n",
        "d"
      ],
      "metadata": {
        "colab": {
          "base_uri": "https://localhost:8080/"
        },
        "id": "jAuOFu07IVQ2",
        "outputId": "e511d02e-c394-4f5d-c78c-f6be840a5c7a"
      },
      "execution_count": 17,
      "outputs": [
        {
          "output_type": "execute_result",
          "data": {
            "text/plain": [
              "[20, 15, 15, 14, 12, 10, 7, 5, 2, 1]"
            ]
          },
          "metadata": {},
          "execution_count": 17
        }
      ]
    },
    {
      "cell_type": "code",
      "source": [
        "sum(a)"
      ],
      "metadata": {
        "colab": {
          "base_uri": "https://localhost:8080/"
        },
        "id": "8VQdvxp2I5zj",
        "outputId": "8c8a6687-fb60-429f-9fb1-ec5b9576b4fe"
      },
      "execution_count": 18,
      "outputs": [
        {
          "output_type": "execute_result",
          "data": {
            "text/plain": [
              "15"
            ]
          },
          "metadata": {},
          "execution_count": 18
        }
      ]
    },
    {
      "cell_type": "code",
      "source": [
        "#index should be same for subtraction in addition it is concatenation"
      ],
      "metadata": {
        "id": "2jZMl-_AIiSY"
      },
      "execution_count": 19,
      "outputs": []
    },
    {
      "cell_type": "code",
      "source": [
        "print(a)"
      ],
      "metadata": {
        "colab": {
          "base_uri": "https://localhost:8080/"
        },
        "id": "Sbc35ADbMPtx",
        "outputId": "c79c4fef-71d7-4184-ec8a-98b95de74919"
      },
      "execution_count": 20,
      "outputs": [
        {
          "output_type": "stream",
          "name": "stdout",
          "text": [
            "[1, 2, 3, 4, 5]\n"
          ]
        }
      ]
    },
    {
      "cell_type": "code",
      "source": [
        "type(a)"
      ],
      "metadata": {
        "colab": {
          "base_uri": "https://localhost:8080/"
        },
        "id": "eWsYcapyMU3G",
        "outputId": "7716c7cb-579b-43ce-82e7-6243d40ae67f"
      },
      "execution_count": 21,
      "outputs": [
        {
          "output_type": "execute_result",
          "data": {
            "text/plain": [
              "list"
            ]
          },
          "metadata": {},
          "execution_count": 21
        }
      ]
    },
    {
      "cell_type": "code",
      "source": [
        "#OPERATION ON A LIST\n",
        "# 1.append (adds data ater the last element of a list)\n"
      ],
      "metadata": {
        "id": "8gDwgHLLMg-o"
      },
      "execution_count": 22,
      "outputs": []
    },
    {
      "cell_type": "code",
      "source": [
        "fruits = [\"berries\",\"apples\",\"grapes\",\"oranges\"]\n",
        "fruits"
      ],
      "metadata": {
        "colab": {
          "base_uri": "https://localhost:8080/"
        },
        "id": "SonCypF7My1H",
        "outputId": "1cd52e4b-ced6-4bd5-bad6-2619e82ce061"
      },
      "execution_count": 23,
      "outputs": [
        {
          "output_type": "execute_result",
          "data": {
            "text/plain": [
              "['berries', 'apples', 'grapes', 'oranges']"
            ]
          },
          "metadata": {},
          "execution_count": 23
        }
      ]
    },
    {
      "cell_type": "code",
      "source": [
        "fruits.append(\"mango\")\n",
        "fruits"
      ],
      "metadata": {
        "colab": {
          "base_uri": "https://localhost:8080/"
        },
        "id": "aMK1cyhpNCAu",
        "outputId": "223f1331-64e0-4cd2-8698-4eeda94a7342"
      },
      "execution_count": 24,
      "outputs": [
        {
          "output_type": "execute_result",
          "data": {
            "text/plain": [
              "['berries', 'apples', 'grapes', 'oranges', 'mango']"
            ]
          },
          "metadata": {},
          "execution_count": 24
        }
      ]
    },
    {
      "cell_type": "code",
      "source": [
        "#['berries', 'apples', 'grapes', 'oranges', 'mango']\n",
        "#   0             1     2         3            4\n",
        "#    -5            -4  -3         -2           -1"
      ],
      "metadata": {
        "id": "gTUetILCNnvt"
      },
      "execution_count": 25,
      "outputs": []
    },
    {
      "cell_type": "code",
      "source": [
        "fruits[2]"
      ],
      "metadata": {
        "colab": {
          "base_uri": "https://localhost:8080/",
          "height": 35
        },
        "id": "fyEanAZWOKGi",
        "outputId": "282acee6-6410-49e3-c5ae-16f4174c5f0a"
      },
      "execution_count": 26,
      "outputs": [
        {
          "output_type": "execute_result",
          "data": {
            "application/vnd.google.colaboratory.intrinsic+json": {
              "type": "string"
            },
            "text/plain": [
              "'grapes'"
            ]
          },
          "metadata": {},
          "execution_count": 26
        }
      ]
    },
    {
      "cell_type": "code",
      "source": [
        "fruits[0:3]#inlusic:exclusive slicing"
      ],
      "metadata": {
        "colab": {
          "base_uri": "https://localhost:8080/"
        },
        "id": "hzCro28WOViz",
        "outputId": "6f3d1660-6078-423e-df42-ff8dc3f797a3"
      },
      "execution_count": 27,
      "outputs": [
        {
          "output_type": "execute_result",
          "data": {
            "text/plain": [
              "['berries', 'apples', 'grapes']"
            ]
          },
          "metadata": {},
          "execution_count": 27
        }
      ]
    },
    {
      "cell_type": "code",
      "source": [
        "fruits[-4:0]"
      ],
      "metadata": {
        "colab": {
          "base_uri": "https://localhost:8080/"
        },
        "id": "qkaPRNTAOgah",
        "outputId": "147ee8b7-0d35-4fb2-d70f-6072b449c438"
      },
      "execution_count": 28,
      "outputs": [
        {
          "output_type": "execute_result",
          "data": {
            "text/plain": [
              "[]"
            ]
          },
          "metadata": {},
          "execution_count": 28
        }
      ]
    },
    {
      "cell_type": "code",
      "source": [
        "fruits[::]"
      ],
      "metadata": {
        "colab": {
          "base_uri": "https://localhost:8080/"
        },
        "id": "zldB8me-J_gs",
        "outputId": "572d00d6-4b9f-4020-d7ce-0ad6ce96974a"
      },
      "execution_count": 29,
      "outputs": [
        {
          "output_type": "execute_result",
          "data": {
            "text/plain": [
              "['berries', 'apples', 'grapes', 'oranges', 'mango']"
            ]
          },
          "metadata": {},
          "execution_count": 29
        }
      ]
    },
    {
      "cell_type": "code",
      "source": [
        "fruits[::2]#prints every second element"
      ],
      "metadata": {
        "colab": {
          "base_uri": "https://localhost:8080/"
        },
        "id": "fk6C572iKCvd",
        "outputId": "5f01a10d-989a-4482-c5a2-199301c8de70"
      },
      "execution_count": 30,
      "outputs": [
        {
          "output_type": "execute_result",
          "data": {
            "text/plain": [
              "['berries', 'grapes', 'mango']"
            ]
          },
          "metadata": {},
          "execution_count": 30
        }
      ]
    },
    {
      "cell_type": "code",
      "source": [
        "fruits[-1]"
      ],
      "metadata": {
        "colab": {
          "base_uri": "https://localhost:8080/",
          "height": 35
        },
        "id": "Tn4wdCDXOoWK",
        "outputId": "886a6a59-9db9-4adf-fd20-4e4b96aaad7e"
      },
      "execution_count": 31,
      "outputs": [
        {
          "output_type": "execute_result",
          "data": {
            "application/vnd.google.colaboratory.intrinsic+json": {
              "type": "string"
            },
            "text/plain": [
              "'mango'"
            ]
          },
          "metadata": {},
          "execution_count": 31
        }
      ]
    },
    {
      "cell_type": "code",
      "source": [
        "fruits[3::]#leaves out first 3 elements"
      ],
      "metadata": {
        "colab": {
          "base_uri": "https://localhost:8080/"
        },
        "id": "3qFwhULqKcob",
        "outputId": "7b000979-e024-4dc4-e4d1-eb0e24a9aab9"
      },
      "execution_count": 32,
      "outputs": [
        {
          "output_type": "execute_result",
          "data": {
            "text/plain": [
              "['oranges', 'mango']"
            ]
          },
          "metadata": {},
          "execution_count": 32
        }
      ]
    },
    {
      "cell_type": "code",
      "source": [
        "fruits[-5]"
      ],
      "metadata": {
        "colab": {
          "base_uri": "https://localhost:8080/",
          "height": 35
        },
        "id": "1cHi4j1OOtM4",
        "outputId": "913206b4-de07-4e75-b766-c36025fbe605"
      },
      "execution_count": 33,
      "outputs": [
        {
          "output_type": "execute_result",
          "data": {
            "application/vnd.google.colaboratory.intrinsic+json": {
              "type": "string"
            },
            "text/plain": [
              "'berries'"
            ]
          },
          "metadata": {},
          "execution_count": 33
        }
      ]
    },
    {
      "cell_type": "code",
      "source": [
        "fruits.append(2,\"guava\")\n",
        "#appemd onle one argument"
      ],
      "metadata": {
        "colab": {
          "base_uri": "https://localhost:8080/",
          "height": 183
        },
        "id": "nH7UPaFcO3m5",
        "outputId": "7b7ee21a-ee4a-47b5-c693-ef52d1e04954"
      },
      "execution_count": 34,
      "outputs": [
        {
          "output_type": "error",
          "ename": "TypeError",
          "evalue": "ignored",
          "traceback": [
            "\u001b[0;31m---------------------------------------------------------------------------\u001b[0m",
            "\u001b[0;31mTypeError\u001b[0m                                 Traceback (most recent call last)",
            "\u001b[0;32m<ipython-input-34-b8477c4d70da>\u001b[0m in \u001b[0;36m<module>\u001b[0;34m()\u001b[0m\n\u001b[0;32m----> 1\u001b[0;31m \u001b[0mfruits\u001b[0m\u001b[0;34m.\u001b[0m\u001b[0mappend\u001b[0m\u001b[0;34m(\u001b[0m\u001b[0;36m2\u001b[0m\u001b[0;34m,\u001b[0m\u001b[0;34m\"guava\"\u001b[0m\u001b[0;34m)\u001b[0m\u001b[0;34m\u001b[0m\u001b[0;34m\u001b[0m\u001b[0m\n\u001b[0m\u001b[1;32m      2\u001b[0m \u001b[0;31m#appemd onle one argument\u001b[0m\u001b[0;34m\u001b[0m\u001b[0;34m\u001b[0m\u001b[0;34m\u001b[0m\u001b[0m\n",
            "\u001b[0;31mTypeError\u001b[0m: append() takes exactly one argument (2 given)"
          ]
        }
      ]
    },
    {
      "cell_type": "code",
      "source": [
        "fruits.insert(2,\"guava\")\n",
        "fruits\n"
      ],
      "metadata": {
        "colab": {
          "base_uri": "https://localhost:8080/"
        },
        "id": "WrotnzNhPJEy",
        "outputId": "4db42472-8293-42ed-d9a3-27e7210484a0"
      },
      "execution_count": 35,
      "outputs": [
        {
          "output_type": "execute_result",
          "data": {
            "text/plain": [
              "['berries', 'apples', 'guava', 'grapes', 'oranges', 'mango']"
            ]
          },
          "metadata": {},
          "execution_count": 35
        }
      ]
    },
    {
      "cell_type": "code",
      "source": [
        "fruits.insert(2,\"guava\")\n",
        "fruits\n"
      ],
      "metadata": {
        "colab": {
          "base_uri": "https://localhost:8080/"
        },
        "outputId": "a54efe6f-378b-4fe2-c656-a017437d8d7d",
        "id": "twestdWbEexC"
      },
      "execution_count": 36,
      "outputs": [
        {
          "output_type": "execute_result",
          "data": {
            "text/plain": [
              "['berries', 'apples', 'guava', 'guava', 'grapes', 'oranges', 'mango']"
            ]
          },
          "metadata": {},
          "execution_count": 36
        }
      ]
    },
    {
      "cell_type": "code",
      "source": [
        "fruits.remove(\"guava\")\n",
        "fruits"
      ],
      "metadata": {
        "id": "0yCEVXd4PW5x",
        "colab": {
          "base_uri": "https://localhost:8080/"
        },
        "outputId": "aac311f2-9f3c-48ff-d261-83c7f3c7134e"
      },
      "execution_count": 37,
      "outputs": [
        {
          "output_type": "execute_result",
          "data": {
            "text/plain": [
              "['berries', 'apples', 'guava', 'grapes', 'oranges', 'mango']"
            ]
          },
          "metadata": {},
          "execution_count": 37
        }
      ]
    },
    {
      "cell_type": "code",
      "source": [
        "#deleting elements wrt index pop()\n",
        "fruits.pop(4)\n",
        "fruits"
      ],
      "metadata": {
        "colab": {
          "base_uri": "https://localhost:8080/"
        },
        "id": "zynyHFfMEzoW",
        "outputId": "14abf684-00a8-4d68-a96e-de724d620ef0"
      },
      "execution_count": 38,
      "outputs": [
        {
          "output_type": "execute_result",
          "data": {
            "text/plain": [
              "['berries', 'apples', 'guava', 'grapes', 'mango']"
            ]
          },
          "metadata": {},
          "execution_count": 38
        }
      ]
    },
    {
      "cell_type": "code",
      "source": [
        "x = fruits.reverse()#reverses the odreder of list\n",
        "fruits"
      ],
      "metadata": {
        "colab": {
          "base_uri": "https://localhost:8080/"
        },
        "id": "vSRUKbGNFCUU",
        "outputId": "8323cb8f-dde4-4be6-b119-b259b307216d"
      },
      "execution_count": 39,
      "outputs": [
        {
          "output_type": "execute_result",
          "data": {
            "text/plain": [
              "['mango', 'grapes', 'guava', 'apples', 'berries']"
            ]
          },
          "metadata": {},
          "execution_count": 39
        }
      ]
    },
    {
      "cell_type": "code",
      "source": [
        "#repeat multiple times\n",
        "fruits * 2"
      ],
      "metadata": {
        "colab": {
          "base_uri": "https://localhost:8080/"
        },
        "id": "6B00vlyxFTwK",
        "outputId": "018ff61b-4a0c-4dbb-82db-a2821fadda6e"
      },
      "execution_count": 42,
      "outputs": [
        {
          "output_type": "execute_result",
          "data": {
            "text/plain": [
              "['mango',\n",
              " 'grapes',\n",
              " 'guava',\n",
              " 'apples',\n",
              " 'berries',\n",
              " 'mango',\n",
              " 'grapes',\n",
              " 'guava',\n",
              " 'apples',\n",
              " 'berries']"
            ]
          },
          "metadata": {},
          "execution_count": 42
        }
      ]
    },
    {
      "cell_type": "code",
      "source": [
        "len(fruits)#gives the vount of no of elemnts"
      ],
      "metadata": {
        "colab": {
          "base_uri": "https://localhost:8080/"
        },
        "id": "duh3QrwtFjDf",
        "outputId": "9a94eaf4-2a47-47d8-8ba9-535d516eb984"
      },
      "execution_count": 43,
      "outputs": [
        {
          "output_type": "execute_result",
          "data": {
            "text/plain": [
              "5"
            ]
          },
          "metadata": {},
          "execution_count": 43
        }
      ]
    },
    {
      "cell_type": "code",
      "source": [
        "max(fruits)# maximunm by alphabetical order m is last"
      ],
      "metadata": {
        "colab": {
          "base_uri": "https://localhost:8080/",
          "height": 35
        },
        "id": "5B26aY9xF6YG",
        "outputId": "ee796eff-cc4d-439b-aa5d-806563b601ac"
      },
      "execution_count": 44,
      "outputs": [
        {
          "output_type": "execute_result",
          "data": {
            "application/vnd.google.colaboratory.intrinsic+json": {
              "type": "string"
            },
            "text/plain": [
              "'mango'"
            ]
          },
          "metadata": {},
          "execution_count": 44
        }
      ]
    },
    {
      "cell_type": "code",
      "source": [
        "min(fruits)#min by alphabet since a first letter"
      ],
      "metadata": {
        "colab": {
          "base_uri": "https://localhost:8080/",
          "height": 35
        },
        "id": "eQ0evfiyGBDq",
        "outputId": "0ba7f94e-f8f7-4b84-9dc0-8a6b4e8417a1"
      },
      "execution_count": 45,
      "outputs": [
        {
          "output_type": "execute_result",
          "data": {
            "application/vnd.google.colaboratory.intrinsic+json": {
              "type": "string"
            },
            "text/plain": [
              "'apples'"
            ]
          },
          "metadata": {},
          "execution_count": 45
        }
      ]
    },
    {
      "cell_type": "code",
      "source": [
        ""
      ],
      "metadata": {
        "id": "LuNo4z8TGzZH"
      },
      "execution_count": 45,
      "outputs": []
    },
    {
      "cell_type": "code",
      "source": [
        "veggies = [\"potato\",\"onions\",\"carrot\",\"ginger\"]\n",
        "veggies"
      ],
      "metadata": {
        "colab": {
          "base_uri": "https://localhost:8080/"
        },
        "id": "mXeIW63VGUb2",
        "outputId": "a3fe8f6b-3908-4895-da4d-b44a42de5eb2"
      },
      "execution_count": 46,
      "outputs": [
        {
          "output_type": "execute_result",
          "data": {
            "text/plain": [
              "['potato', 'onions', 'carrot', 'ginger']"
            ]
          },
          "metadata": {},
          "execution_count": 46
        }
      ]
    },
    {
      "cell_type": "code",
      "source": [
        "fruits.extend(veggies)#combine two lists \n"
      ],
      "metadata": {
        "id": "Fz8fQzFoGoX5"
      },
      "execution_count": 47,
      "outputs": []
    },
    {
      "cell_type": "code",
      "source": [
        "fruits"
      ],
      "metadata": {
        "colab": {
          "base_uri": "https://localhost:8080/"
        },
        "id": "YJFG1swXG1s6",
        "outputId": "e1e46fe4-0dd1-4815-fb12-e06a23e2f807"
      },
      "execution_count": 48,
      "outputs": [
        {
          "output_type": "execute_result",
          "data": {
            "text/plain": [
              "['mango',\n",
              " 'grapes',\n",
              " 'guava',\n",
              " 'apples',\n",
              " 'berries',\n",
              " 'potato',\n",
              " 'onions',\n",
              " 'carrot',\n",
              " 'ginger']"
            ]
          },
          "metadata": {},
          "execution_count": 48
        }
      ]
    },
    {
      "cell_type": "code",
      "source": [
        "veggies.extend(fruits)"
      ],
      "metadata": {
        "id": "POoTi6TpHGTF"
      },
      "execution_count": 49,
      "outputs": []
    },
    {
      "cell_type": "code",
      "source": [
        "veggies"
      ],
      "metadata": {
        "colab": {
          "base_uri": "https://localhost:8080/"
        },
        "id": "EoSPXbQaHLgg",
        "outputId": "c979437d-1f39-4729-d80e-7326f6cd8be5"
      },
      "execution_count": 50,
      "outputs": [
        {
          "output_type": "execute_result",
          "data": {
            "text/plain": [
              "['potato',\n",
              " 'onions',\n",
              " 'carrot',\n",
              " 'ginger',\n",
              " 'mango',\n",
              " 'grapes',\n",
              " 'guava',\n",
              " 'apples',\n",
              " 'berries',\n",
              " 'potato',\n",
              " 'onions',\n",
              " 'carrot',\n",
              " 'ginger']"
            ]
          },
          "metadata": {},
          "execution_count": 50
        }
      ]
    },
    {
      "cell_type": "code",
      "source": [
        "len(fruits)"
      ],
      "metadata": {
        "colab": {
          "base_uri": "https://localhost:8080/"
        },
        "id": "x17eEpSqHO4n",
        "outputId": "14eab20a-d856-4c62-82c3-deee08615bab"
      },
      "execution_count": 51,
      "outputs": [
        {
          "output_type": "execute_result",
          "data": {
            "text/plain": [
              "9"
            ]
          },
          "metadata": {},
          "execution_count": 51
        }
      ]
    },
    {
      "cell_type": "code",
      "source": [
        "len(veggies)"
      ],
      "metadata": {
        "colab": {
          "base_uri": "https://localhost:8080/"
        },
        "id": "IVnCea_VHRbQ",
        "outputId": "22a005b2-fe1f-4a86-9c80-01c5ae44d766"
      },
      "execution_count": 52,
      "outputs": [
        {
          "output_type": "execute_result",
          "data": {
            "text/plain": [
              "13"
            ]
          },
          "metadata": {},
          "execution_count": 52
        }
      ]
    },
    {
      "cell_type": "code",
      "source": [
        "fruits[-1::1]"
      ],
      "metadata": {
        "colab": {
          "base_uri": "https://localhost:8080/"
        },
        "id": "OtSfpAvpJeeN",
        "outputId": "77370aba-c967-4809-e8de-e0bbe381aafd"
      },
      "execution_count": 53,
      "outputs": [
        {
          "output_type": "execute_result",
          "data": {
            "text/plain": [
              "['ginger']"
            ]
          },
          "metadata": {},
          "execution_count": 53
        }
      ]
    },
    {
      "cell_type": "code",
      "source": [
        "fruits"
      ],
      "metadata": {
        "colab": {
          "base_uri": "https://localhost:8080/"
        },
        "id": "1XhUjuHtK0yl",
        "outputId": "593650ef-746c-4380-a24d-36650226d8c5"
      },
      "execution_count": 54,
      "outputs": [
        {
          "output_type": "execute_result",
          "data": {
            "text/plain": [
              "['mango',\n",
              " 'grapes',\n",
              " 'guava',\n",
              " 'apples',\n",
              " 'berries',\n",
              " 'potato',\n",
              " 'onions',\n",
              " 'carrot',\n",
              " 'ginger']"
            ]
          },
          "metadata": {},
          "execution_count": 54
        }
      ]
    },
    {
      "cell_type": "code",
      "source": [
        "# TUPPLES (tuples are immutable ie when no change)\n",
        "   a= [1,2,3,4,5]    a = (1,2,3,4,5)"
      ],
      "metadata": {
        "id": "TjkDo_4hHVjB",
        "colab": {
          "base_uri": "https://localhost:8080/",
          "height": 130
        },
        "outputId": "6bc1ad45-c3fc-47ed-d438-5ff44ccc1ae4"
      },
      "execution_count": 62,
      "outputs": [
        {
          "output_type": "error",
          "ename": "IndentationError",
          "evalue": "ignored",
          "traceback": [
            "\u001b[0;36m  File \u001b[0;32m\"<ipython-input-62-f0b9b791c199>\"\u001b[0;36m, line \u001b[0;32m2\u001b[0m\n\u001b[0;31m    z= [1,2,3,4,5]  z = (1,2,3,4,5)\u001b[0m\n\u001b[0m    ^\u001b[0m\n\u001b[0;31mIndentationError\u001b[0m\u001b[0;31m:\u001b[0m unexpected indent\n"
          ]
        }
      ]
    },
    {
      "cell_type": "code",
      "source": [
        "a = (4,5,6,7,8)\n",
        "type(a)"
      ],
      "metadata": {
        "colab": {
          "base_uri": "https://localhost:8080/"
        },
        "id": "ZI1aXaNV7vIl",
        "outputId": "d137753d-190e-41b2-aa73-608105461d5c"
      },
      "execution_count": 64,
      "outputs": [
        {
          "output_type": "execute_result",
          "data": {
            "text/plain": [
              "tuple"
            ]
          },
          "metadata": {},
          "execution_count": 64
        }
      ]
    },
    {
      "cell_type": "code",
      "source": [
        "#a.append\n",
        "#a.insert\n",
        "#error "
      ],
      "metadata": {
        "id": "Du1YU3J18dNQ"
      },
      "execution_count": null,
      "outputs": []
    },
    {
      "cell_type": "code",
      "source": [
        "a * 2"
      ],
      "metadata": {
        "colab": {
          "base_uri": "https://localhost:8080/"
        },
        "id": "wlGoXAN-8Zl4",
        "outputId": "a8c62b40-506d-4967-dbcb-f1f9092c14fc"
      },
      "execution_count": 65,
      "outputs": [
        {
          "output_type": "execute_result",
          "data": {
            "text/plain": [
              "(4, 5, 6, 7, 8, 4, 5, 6, 7, 8)"
            ]
          },
          "metadata": {},
          "execution_count": 65
        }
      ]
    },
    {
      "cell_type": "code",
      "source": [
        "a"
      ],
      "metadata": {
        "colab": {
          "base_uri": "https://localhost:8080/"
        },
        "id": "UDONBMLA6uWF",
        "outputId": "5b3ccb3b-414a-4ee7-ebb9-bfd612a790c1"
      },
      "execution_count": 66,
      "outputs": [
        {
          "output_type": "execute_result",
          "data": {
            "text/plain": [
              "(4, 5, 6, 7, 8)"
            ]
          },
          "metadata": {},
          "execution_count": 66
        }
      ]
    },
    {
      "cell_type": "code",
      "source": [
        "x = list(a) #coverts tuple to a list"
      ],
      "metadata": {
        "id": "aXZzpvgt8vYb"
      },
      "execution_count": 67,
      "outputs": []
    },
    {
      "cell_type": "markdown",
      "source": [
        "type(x)"
      ],
      "metadata": {
        "id": "nfJezSut8yAV"
      }
    },
    {
      "cell_type": "code",
      "source": [
        "x.append(10) #append a tupple by list"
      ],
      "metadata": {
        "id": "OpbFVNWQ8z2-"
      },
      "execution_count": 69,
      "outputs": []
    },
    {
      "cell_type": "code",
      "source": [
        "a = tuple(x) #convert back to tuple\n",
        "type(a)"
      ],
      "metadata": {
        "colab": {
          "base_uri": "https://localhost:8080/"
        },
        "id": "AeDaLkT983vq",
        "outputId": "72ec5faf-59d8-4b2a-9015-6774cfce73d6"
      },
      "execution_count": 72,
      "outputs": [
        {
          "output_type": "execute_result",
          "data": {
            "text/plain": [
              "tuple"
            ]
          },
          "metadata": {},
          "execution_count": 72
        }
      ]
    },
    {
      "cell_type": "code",
      "source": [
        "a"
      ],
      "metadata": {
        "colab": {
          "base_uri": "https://localhost:8080/"
        },
        "id": "tUwy3wjd9Ed9",
        "outputId": "f339b14e-5381-40ba-903f-7e1a16117cfd"
      },
      "execution_count": 73,
      "outputs": [
        {
          "output_type": "execute_result",
          "data": {
            "text/plain": [
              "(4, 5, 6, 7, 8, 10)"
            ]
          },
          "metadata": {},
          "execution_count": 73
        }
      ]
    },
    {
      "cell_type": "code",
      "source": [
        "del a #delets tupple completely"
      ],
      "metadata": {
        "id": "-tVkZoeS9GJ4"
      },
      "execution_count": 74,
      "outputs": []
    },
    {
      "cell_type": "code",
      "source": [
        "a\n"
      ],
      "metadata": {
        "colab": {
          "base_uri": "https://localhost:8080/",
          "height": 165
        },
        "id": "keLXtdWp9MZj",
        "outputId": "9fbfe48c-89da-48cd-a772-442b3427011e"
      },
      "execution_count": 75,
      "outputs": [
        {
          "output_type": "error",
          "ename": "NameError",
          "evalue": "ignored",
          "traceback": [
            "\u001b[0;31m---------------------------------------------------------------------------\u001b[0m",
            "\u001b[0;31mNameError\u001b[0m                                 Traceback (most recent call last)",
            "\u001b[0;32m<ipython-input-75-3f786850e387>\u001b[0m in \u001b[0;36m<module>\u001b[0;34m()\u001b[0m\n\u001b[0;32m----> 1\u001b[0;31m \u001b[0ma\u001b[0m\u001b[0;34m\u001b[0m\u001b[0;34m\u001b[0m\u001b[0m\n\u001b[0m",
            "\u001b[0;31mNameError\u001b[0m: name 'a' is not defined"
          ]
        }
      ]
    },
    {
      "cell_type": "code",
      "source": [
        "y = (\"abc\",35,True,z) #tuple can accept any type of datbase\n",
        "y"
      ],
      "metadata": {
        "colab": {
          "base_uri": "https://localhost:8080/"
        },
        "id": "5H5LUj3E9Ob1",
        "outputId": "f46024e9-3861-40cf-9f8b-b3ae69a20022"
      },
      "execution_count": 77,
      "outputs": [
        {
          "output_type": "execute_result",
          "data": {
            "text/plain": [
              "('abc', 35, True, (4, 5, 6, 7, 8))"
            ]
          },
          "metadata": {},
          "execution_count": 77
        }
      ]
    },
    {
      "cell_type": "code",
      "source": [
        "type(y)"
      ],
      "metadata": {
        "colab": {
          "base_uri": "https://localhost:8080/"
        },
        "id": "7sSrReJO93Qt",
        "outputId": "352d2fa1-69e7-4e4c-fede-496f69cc4997"
      },
      "execution_count": 78,
      "outputs": [
        {
          "output_type": "execute_result",
          "data": {
            "text/plain": [
              "tuple"
            ]
          },
          "metadata": {},
          "execution_count": 78
        }
      ]
    },
    {
      "cell_type": "code",
      "source": [
        "#DICTIONARY -(key,value pairs)"
      ],
      "metadata": {
        "id": "zJczamXI95lH"
      },
      "execution_count": null,
      "outputs": []
    },
    {
      "cell_type": "code",
      "source": [
        "dict1 = {1:123,2:\"tys\",3:\"hi\"}\n",
        "dict1"
      ],
      "metadata": {
        "colab": {
          "base_uri": "https://localhost:8080/"
        },
        "id": "z1GU-KHS-EoO",
        "outputId": "bb421e12-7544-486e-88f5-bf40a61a7e8d"
      },
      "execution_count": 86,
      "outputs": [
        {
          "output_type": "execute_result",
          "data": {
            "text/plain": [
              "{1: 123, 2: 'tys', 3: 'hi'}"
            ]
          },
          "metadata": {},
          "execution_count": 86
        }
      ]
    },
    {
      "cell_type": "code",
      "source": [
        "dict2 =  {1:34,5:67, 9:10} # any data type any order\n",
        "dict2"
      ],
      "metadata": {
        "colab": {
          "base_uri": "https://localhost:8080/"
        },
        "id": "JSg9nBH_-4rF",
        "outputId": "32e62d7f-fd5b-4cd6-9fa9-717fa8126ba9"
      },
      "execution_count": 88,
      "outputs": [
        {
          "output_type": "execute_result",
          "data": {
            "text/plain": [
              "{1: 34, 5: 67, 9: 10}"
            ]
          },
          "metadata": {},
          "execution_count": 88
        }
      ]
    },
    {
      "cell_type": "code",
      "source": [
        "type(dict1)"
      ],
      "metadata": {
        "colab": {
          "base_uri": "https://localhost:8080/"
        },
        "id": "vRoxXMCy-mtd",
        "outputId": "329ebe4b-8099-46ca-ecdd-4bef192bffe9"
      },
      "execution_count": 89,
      "outputs": [
        {
          "output_type": "execute_result",
          "data": {
            "text/plain": [
              "dict"
            ]
          },
          "metadata": {},
          "execution_count": 89
        }
      ]
    },
    {
      "cell_type": "code",
      "source": [
        "dict1[3]"
      ],
      "metadata": {
        "colab": {
          "base_uri": "https://localhost:8080/",
          "height": 35
        },
        "id": "p8D7l7pJ-uK7",
        "outputId": "29734f09-af0f-498b-cadc-7f37df43c26b"
      },
      "execution_count": 90,
      "outputs": [
        {
          "output_type": "execute_result",
          "data": {
            "application/vnd.google.colaboratory.intrinsic+json": {
              "type": "string"
            },
            "text/plain": [
              "'hi'"
            ]
          },
          "metadata": {},
          "execution_count": 90
        }
      ]
    },
    {
      "cell_type": "code",
      "source": [
        "dict1[1]"
      ],
      "metadata": {
        "colab": {
          "base_uri": "https://localhost:8080/"
        },
        "id": "DmUV4Gjv_f_d",
        "outputId": "699d9a96-6d15-4c75-9898-7f4fbc65950c"
      },
      "execution_count": 94,
      "outputs": [
        {
          "output_type": "execute_result",
          "data": {
            "text/plain": [
              "123"
            ]
          },
          "metadata": {},
          "execution_count": 94
        }
      ]
    },
    {
      "cell_type": "code",
      "source": [
        "#dict1[0] is an error since no zero\n",
        "#key can be strings"
      ],
      "metadata": {
        "id": "TdJvrTIn_p_v"
      },
      "execution_count": 95,
      "outputs": []
    },
    {
      "cell_type": "code",
      "source": [
        "dict1.get(3) #prints value stored in 3 key value"
      ],
      "metadata": {
        "colab": {
          "base_uri": "https://localhost:8080/",
          "height": 35
        },
        "id": "h7FyyKSP_2fj",
        "outputId": "2d79d951-0249-42f7-e4aa-48c5cb2da1f9"
      },
      "execution_count": 101,
      "outputs": [
        {
          "output_type": "execute_result",
          "data": {
            "application/vnd.google.colaboratory.intrinsic+json": {
              "type": "string"
            },
            "text/plain": [
              "'hi'"
            ]
          },
          "metadata": {},
          "execution_count": 101
        }
      ]
    },
    {
      "cell_type": "code",
      "source": [
        "dict1[5]=\"hello\"\n",
        "dict1"
      ],
      "metadata": {
        "colab": {
          "base_uri": "https://localhost:8080/"
        },
        "id": "XLZ7Cbx1_95F",
        "outputId": "d2aafa8f-e252-4c05-bd0c-8b4b9ba6c4ee"
      },
      "execution_count": 98,
      "outputs": [
        {
          "output_type": "execute_result",
          "data": {
            "text/plain": [
              "{1: 123, 2: 'tys', 3: 'hi', 5: 'hello'}"
            ]
          },
          "metadata": {},
          "execution_count": 98
        }
      ]
    },
    {
      "cell_type": "code",
      "source": [
        "dict1[5]=\"hii\"#overlaps the value\n",
        "dict1"
      ],
      "metadata": {
        "colab": {
          "base_uri": "https://localhost:8080/"
        },
        "id": "uuNqkfHRAejI",
        "outputId": "9b093319-b4b3-4855-9ca7-1cfeea0d88a4"
      },
      "execution_count": 103,
      "outputs": [
        {
          "output_type": "execute_result",
          "data": {
            "text/plain": [
              "{1: 123, 2: 'tys', 3: 'hi', 5: 'hii'}"
            ]
          },
          "metadata": {},
          "execution_count": 103
        }
      ]
    },
    {
      "cell_type": "code",
      "source": [
        "del dict1[1] #delete element\n",
        "dict1"
      ],
      "metadata": {
        "colab": {
          "base_uri": "https://localhost:8080/"
        },
        "id": "ZeIV_mkRAtHB",
        "outputId": "65668808-a02c-43b5-8628-b4218e50b047"
      },
      "execution_count": 104,
      "outputs": [
        {
          "output_type": "execute_result",
          "data": {
            "text/plain": [
              "{2: 'tys', 3: 'hi', 5: 'hii'}"
            ]
          },
          "metadata": {},
          "execution_count": 104
        }
      ]
    },
    {
      "cell_type": "code",
      "source": [
        "#to create a dictionary from list\n",
        "keys = ['p1','p2','p3']  #list1\n",
        "values = [\"python\",\"c++\",\"35\"] #list2\n",
        "data = dict(zip(keys,values)) #combine two list and zip it into a dictionary\n",
        "data"
      ],
      "metadata": {
        "colab": {
          "base_uri": "https://localhost:8080/"
        },
        "id": "83cQgtGjAzTA",
        "outputId": "4bcc6ff4-c24d-4095-d889-a1a2e8ac59a3"
      },
      "execution_count": 106,
      "outputs": [
        {
          "output_type": "execute_result",
          "data": {
            "text/plain": [
              "{'p1': 'python', 'p2': 'c++', 'p3': '35'}"
            ]
          },
          "metadata": {},
          "execution_count": 106
        }
      ]
    },
    {
      "cell_type": "code",
      "source": [
        "data['p1']"
      ],
      "metadata": {
        "colab": {
          "base_uri": "https://localhost:8080/",
          "height": 35
        },
        "id": "6zMugZjt_xc7",
        "outputId": "67aa62c9-4fc6-4441-c056-9f3d3b164ff0"
      },
      "execution_count": 108,
      "outputs": [
        {
          "output_type": "execute_result",
          "data": {
            "application/vnd.google.colaboratory.intrinsic+json": {
              "type": "string"
            },
            "text/plain": [
              "'python'"
            ]
          },
          "metadata": {},
          "execution_count": 108
        }
      ]
    },
    {
      "cell_type": "code",
      "source": [
        "editors={'localhost':'jupyter','offline':['IDLE','vs','py','sub'],'online':{'google':'chrome','kaggle':'kag coll'}}\n",
        "editors"
      ],
      "metadata": {
        "colab": {
          "base_uri": "https://localhost:8080/"
        },
        "id": "aO5qeWUECSbI",
        "outputId": "9b6c671f-5d6b-4bd6-fa29-8a6afd8db533"
      },
      "execution_count": 110,
      "outputs": [
        {
          "output_type": "execute_result",
          "data": {
            "text/plain": [
              "{'localhost': 'jupyter',\n",
              " 'offline': ['IDLE', 'vs', 'py', 'sub'],\n",
              " 'online': {'google': 'chrome', 'kaggle': 'kag coll'}}"
            ]
          },
          "metadata": {},
          "execution_count": 110
        }
      ]
    },
    {
      "cell_type": "code",
      "source": [
        "editors['localhost']"
      ],
      "metadata": {
        "colab": {
          "base_uri": "https://localhost:8080/",
          "height": 35
        },
        "id": "Pcic9S9jGxSk",
        "outputId": "acf6cfbb-f631-4212-d5fe-f2b5ab3a560a"
      },
      "execution_count": 112,
      "outputs": [
        {
          "output_type": "execute_result",
          "data": {
            "application/vnd.google.colaboratory.intrinsic+json": {
              "type": "string"
            },
            "text/plain": [
              "'jupyter'"
            ]
          },
          "metadata": {},
          "execution_count": 112
        }
      ]
    },
    {
      "cell_type": "code",
      "source": [
        "editors['offline'][1] #list in case of []"
      ],
      "metadata": {
        "colab": {
          "base_uri": "https://localhost:8080/",
          "height": 35
        },
        "id": "iIJhoTGEG-ej",
        "outputId": "5e94463d-a830-4084-8766-3a0c60efc7cc"
      },
      "execution_count": 115,
      "outputs": [
        {
          "output_type": "execute_result",
          "data": {
            "application/vnd.google.colaboratory.intrinsic+json": {
              "type": "string"
            },
            "text/plain": [
              "'vs'"
            ]
          },
          "metadata": {},
          "execution_count": 115
        }
      ]
    },
    {
      "cell_type": "markdown",
      "source": [
        "editors['online']['google']#here not [][2]"
      ],
      "metadata": {
        "id": "PgoiW-GqHMp0"
      }
    },
    {
      "cell_type": "code",
      "source": [
        "#sets not take repeat values\n",
        "sets = {1,2,2,3,3,4}\n",
        "sets"
      ],
      "metadata": {
        "colab": {
          "base_uri": "https://localhost:8080/"
        },
        "id": "94fRzmCJIzDX",
        "outputId": "3fd26f66-6663-4cbf-d56f-14719362f0ac"
      },
      "execution_count": 118,
      "outputs": [
        {
          "output_type": "execute_result",
          "data": {
            "text/plain": [
              "{1, 2, 3, 4}"
            ]
          },
          "metadata": {},
          "execution_count": 118
        }
      ]
    },
    {
      "cell_type": "code",
      "source": [
        "sets.add(10)\n",
        "sets"
      ],
      "metadata": {
        "colab": {
          "base_uri": "https://localhost:8080/"
        },
        "id": "-MFlANMJJF7G",
        "outputId": "403f7998-7976-4188-d5f1-09b4ed3db552"
      },
      "execution_count": 120,
      "outputs": [
        {
          "output_type": "execute_result",
          "data": {
            "text/plain": [
              "{1, 2, 3, 4, 10}"
            ]
          },
          "metadata": {},
          "execution_count": 120
        }
      ]
    },
    {
      "cell_type": "code",
      "source": [
        "sets.discard(10)\n",
        "sets"
      ],
      "metadata": {
        "colab": {
          "base_uri": "https://localhost:8080/"
        },
        "id": "V2NHKpsSJO4g",
        "outputId": "4239c692-0a51-4527-858d-7c2631dd54ef"
      },
      "execution_count": 126,
      "outputs": [
        {
          "output_type": "execute_result",
          "data": {
            "text/plain": [
              "{1, 2, 3, 4}"
            ]
          },
          "metadata": {},
          "execution_count": 126
        }
      ]
    },
    {
      "cell_type": "code",
      "source": [
        "sets"
      ],
      "metadata": {
        "colab": {
          "base_uri": "https://localhost:8080/"
        },
        "id": "NXgeh91-NqzE",
        "outputId": "e611d05b-6110-40fa-bc07-7d5ace90c9a7"
      },
      "execution_count": 131,
      "outputs": [
        {
          "output_type": "execute_result",
          "data": {
            "text/plain": [
              "{1, 2, 3, 4}"
            ]
          },
          "metadata": {},
          "execution_count": 131
        }
      ]
    },
    {
      "cell_type": "code",
      "source": [
        "sets2={2,3,4,5}\n",
        "sets2\n"
      ],
      "metadata": {
        "colab": {
          "base_uri": "https://localhost:8080/"
        },
        "id": "N-Q7aX-pJenh",
        "outputId": "c320c00b-f5a1-4af8-d8ac-4bd81cf90588"
      },
      "execution_count": 130,
      "outputs": [
        {
          "output_type": "execute_result",
          "data": {
            "text/plain": [
              "{2, 3, 4, 5}"
            ]
          },
          "metadata": {},
          "execution_count": 130
        }
      ]
    },
    {
      "cell_type": "code",
      "source": [
        "sets | sets2 #union of set"
      ],
      "metadata": {
        "colab": {
          "base_uri": "https://localhost:8080/"
        },
        "id": "NB25DXpXJ_Dm",
        "outputId": "4dea5c2f-0742-40e1-b9a0-b6935ef2f547"
      },
      "execution_count": 136,
      "outputs": [
        {
          "output_type": "execute_result",
          "data": {
            "text/plain": [
              "{1, 2, 3, 4, 5}"
            ]
          },
          "metadata": {},
          "execution_count": 136
        }
      ]
    },
    {
      "cell_type": "code",
      "source": [
        "sets & sets2 #intersection of set"
      ],
      "metadata": {
        "colab": {
          "base_uri": "https://localhost:8080/"
        },
        "id": "JrX6odEgJocZ",
        "outputId": "161a5caf-07d0-4e72-925a-755d92ffd968"
      },
      "execution_count": 134,
      "outputs": [
        {
          "output_type": "execute_result",
          "data": {
            "text/plain": [
              "{2, 3, 4}"
            ]
          },
          "metadata": {},
          "execution_count": 134
        }
      ]
    },
    {
      "cell_type": "code",
      "source": [
        "sets^sets2 #symmetric difference of sets (union of uncommon elements)\n"
      ],
      "metadata": {
        "colab": {
          "base_uri": "https://localhost:8080/"
        },
        "id": "04L9V1UhORZm",
        "outputId": "1bbba0a0-8a6d-407a-e822-ffd0b0a19443"
      },
      "execution_count": 137,
      "outputs": [
        {
          "output_type": "execute_result",
          "data": {
            "text/plain": [
              "{1, 5}"
            ]
          },
          "metadata": {},
          "execution_count": 137
        }
      ]
    },
    {
      "cell_type": "code",
      "source": [
        ""
      ],
      "metadata": {
        "id": "FkN9spAeHUzM"
      },
      "execution_count": null,
      "outputs": []
    },
    {
      "cell_type": "code",
      "source": [
        ""
      ],
      "metadata": {
        "id": "6_96801_HHC-"
      },
      "execution_count": null,
      "outputs": []
    },
    {
      "cell_type": "code",
      "source": [
        ""
      ],
      "metadata": {
        "id": "Rwtl6xmE9XxM"
      },
      "execution_count": null,
      "outputs": []
    }
  ]
}